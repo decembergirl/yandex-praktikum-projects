{
 "cells": [
  {
   "cell_type": "code",
   "execution_count": null,
   "metadata": {},
   "outputs": [],
   "source": [
    "#импортирование библиотек\n",
    "import pandas as pd\n",
    "import numpy as np\n",
    "import matplotlib.pyplot as plt\n",
    "import seaborn as sns\n",
    "\n",
    "from plotly import graph_objects as go\n",
    "from plotly.subplots import make_subplots\n",
    "import plotly.express as px\n",
    "\n",
    "from scipy import stats as st\n",
    "import datetime\n",
    "import math as mth\n",
    "\n",
    "import warnings\n",
    "warnings.filterwarnings(\"ignore\")\n",
    "\n",
    "#pd опции \n",
    "pd.set_option('display.float_format', lambda x: '%.2f' % x)\n",
    "pd.set_option('display.max_columns', None)\n",
    "sns.set()"
   ]
  },
  {
   "cell_type": "code",
   "execution_count": null,
   "metadata": {},
   "outputs": [],
   "source": [
    "# прочитаем файл\n",
    "file_name = 'test_data.xlsx'\n",
    "task = pd.read_excel(file_name, sheet_name = 'task')"
   ]
  },
  {
   "cell_type": "code",
   "execution_count": null,
   "metadata": {},
   "outputs": [],
   "source": [
    "display(task.head())"
   ]
  },
  {
   "cell_type": "code",
   "execution_count": null,
   "metadata": {},
   "outputs": [],
   "source": [
    "call = pd.read_excel(file_name, sheet_name = 'call')\n",
    "display(call.head())"
   ]
  },
  {
   "cell_type": "code",
   "execution_count": null,
   "metadata": {},
   "outputs": [],
   "source": [
    "result_product = pd.read_excel(file_name, sheet_name = 'result_product')\n",
    "display(result_product.head())"
   ]
  },
  {
   "cell_type": "code",
   "execution_count": null,
   "metadata": {},
   "outputs": [],
   "source": [
    "dict_calls = pd.read_excel(file_name, sheet_name = 'Словари', usecols = 'A:B', header = 1)\n",
    "display(dict_calls.head())\n",
    "\n",
    "dict_tasks = pd.read_excel(file_name, sheet_name = 'Словари', usecols = 'D:E',  header = 1)\n",
    "display(dict_tasks.head())\n",
    "\n",
    "dict_base = pd.read_excel(file_name, sheet_name = 'Словари', usecols = 'G:H',  header = 1)\n",
    "display(dict_base.head())"
   ]
  },
  {
   "attachments": {},
   "cell_type": "markdown",
   "metadata": {},
   "source": [
    "# 1\n",
    "1. Каждая запись в task это задание совершить коммуникацию с потенциальным клиентом для продажи продукта (т.е. task=клиент).\n",
    "2. В рамках задания (task) может быть несколько звонков.\n",
    "3. При успешной продаже (результат задания = Успешно) продукта можно проследить дальнейшие действия клиента (result_product)\n",
    "\n",
    "## Задача \n",
    "Составить общую таблицу с данными из всех источников и словарей."
   ]
  },
  {
   "cell_type": "code",
   "execution_count": null,
   "metadata": {},
   "outputs": [],
   "source": [
    "# объединить таблицы в одну\n",
    "\n",
    "full_table = call.merge(task, on = 'task_id', how = 'left').merge(result_product, on = 'hid', how = 'left')\n",
    "display(full_table.head(5))"
   ]
  },
  {
   "cell_type": "code",
   "execution_count": null,
   "metadata": {},
   "outputs": [],
   "source": [
    "#full_table.isna().sum()\n",
    "full_table.info()"
   ]
  },
  {
   "cell_type": "markdown",
   "metadata": {},
   "source": [
    "# 2\n",
    "\n",
    "## Задача\n",
    "\n",
    "1. На основе данных из таблицы, созданной по Заданию 1, необходимо расчитать общую воронку продаж за все время наблюдений по базам.\n",
    "2. Расчитать показатели сотрудников, количество звонков , продажную конверсию (\"Дозвон, Успешно\"/(\"Дозвон, Отказ\" + \"Дозвон, успешно\")), среднее время в звонке.\n",
    "3. На основе решения П.1 визуализировать полученные данные в виде графиков/диаграмм, сформировать выводы и предложения. \n"
   ]
  },
  {
   "cell_type": "code",
   "execution_count": null,
   "metadata": {},
   "outputs": [],
   "source": [
    "# воронка событий \n",
    "print('Всего заданий = ', full_table['task_id'].nunique())\n",
    "#display(task['task_result_id'].value_counts())\n",
    "\n",
    "#display(full_table.pivot_table)\n",
    "print('Успешных заданий = ', task.query('task_result_id == 6')['task_id'].count())\n",
    "print('Одобренных продуктов = ', result_product[~result_product['approve_dt'].isna()]['hid'].count())\n",
    "print('Использованных продуктов = ', result_product[~result_product['using_dt'].isna()]['hid'].count())\n",
    "d = {'col1': [1, 2], 'col2': [3, 4]}\n",
    "sales_funnel = pd.DataFrame(data = {'event': ['Всего заданий', \n",
    "                                              'Успешных заданий', \n",
    "                                              'Одобренных продуктов',\n",
    "                                              'Использованных продуктов'\n",
    "                                             ],\n",
    "                                    'n_tasks': [full_table['task_id'].nunique(), \n",
    "                                                task.query('task_result_id == 6')['task_id'].count(),\n",
    "                                               result_product[~result_product['approve_dt'].isna()]['hid'].count(),\n",
    "                                               result_product[~result_product['using_dt'].isna()]['hid'].count()]\n",
    "                                               \n",
    "                                   })\n",
    "display(sales_funnel)\n",
    "fig = go.Figure(go.Funnel(\n",
    "    y = sales_funnel['event'],\n",
    "    x = sales_funnel['n_tasks'],\n",
    "    textinfo = \"value+percent initial\"))\n",
    "fig.update_layout(title = \"Воронка событий\")\n",
    "fig.show()\n",
    "\n",
    "display(sales_funnel)\n",
    "fig = go.Figure(go.Funnel(\n",
    "    y = sales_funnel['event'],\n",
    "    x = sales_funnel['n_tasks'],\n",
    "    textinfo = \"value+percent previous\"))\n",
    "fig.update_layout(title = \"Воронка событий\")\n",
    "fig.show()"
   ]
  },
  {
   "cell_type": "code",
   "execution_count": null,
   "metadata": {},
   "outputs": [],
   "source": [
    "# Расчитать показатели сотрудников, \n",
    "# количество звонков , среднее время в звонке.\n",
    "\n",
    "agents_data = full_table.groupby('agent_name').agg(\n",
    "                                n_calls = ('call_id','count'),\n",
    "                                avg_call_sec = ('call_time_sec', 'mean')\n",
    "                                    ).reset_index()\n",
    "#display(agents_data)\n",
    "\n",
    "#продажную конверсию (\"Дозвон, Успешно\"/(\"Дозвон, Отказ\" + \"Дозвон, успешно\")), \n",
    "agents_tmp = full_table.pivot_table(values = 'call_id', \n",
    "                       index = 'agent_name', \n",
    "                       columns =  'call_result_id',\n",
    "                       aggfunc = 'count').reset_index()\n",
    "print(agents_tmp.columns)\n",
    "agents_tmp  = agents_tmp.rename(columns = {1:'call_reject', 3:\"call_success\"})\n",
    "\n",
    "agents_tmp['conversion'] = agents_tmp['call_success']/(agents_tmp['call_reject']+agents_tmp['call_success'])\n",
    "display(agents_tmp.head())\n",
    "\n",
    "agents_data = agents_data.merge(agents_tmp[['agent_name','call_success', 'call_reject', 'conversion']],\n",
    "                                on = 'agent_name', \n",
    "                                how = 'left')\n",
    "agents_data['conversion'] = agents_data['conversion'].fillna(0)\n",
    "display(agents_data.head())"
   ]
  },
  {
   "cell_type": "code",
   "execution_count": null,
   "metadata": {},
   "outputs": [],
   "source": [
    "# графики\n",
    "# количество звонков\n",
    "\n",
    "plt.figure(figsize = (10,6))\n",
    "ax = sns.distplot(agents_data['n_calls'], kde = False)\n",
    "ax.set(title = \"Гистограмма признака =  Количество звонков от оператора\",\n",
    "        xlabel = 'Количество звонков',\n",
    "        ylabel = \"Частота\")\n",
    "plt.show() \n",
    "\n",
    "# средняя продолжительность звонков \n",
    "plt.figure(figsize = (10,6))\n",
    "ax = sns.distplot(agents_data['avg_call_sec'], kde = False)\n",
    "ax.set(title = \"Гистограмма признака =  Средняя продолжительность звонка\",\n",
    "        xlabel = 'Средняя продолжительность звонка, сек',\n",
    "        ylabel = \"Частота\")\n",
    "plt.show() \n",
    "\n",
    "# продажная конверсия\n",
    "plt.figure(figsize = (10,6))\n",
    "ax = sns.distplot(agents_data['conversion'],kde = False)\n",
    "ax.set(title = \"Гистограмма признака =  Продажная конверсия\",\n",
    "        xlabel = 'Продажная конверсия',\n",
    "        ylabel = \"Частота\")\n",
    "plt.show() "
   ]
  },
  {
   "cell_type": "code",
   "execution_count": null,
   "metadata": {},
   "outputs": [],
   "source": [
    "agents_data.query('n_calls > 1500')"
   ]
  },
  {
   "cell_type": "code",
   "execution_count": null,
   "metadata": {},
   "outputs": [],
   "source": [
    "agents_data.nlargest(10,'avg_call_sec')"
   ]
  },
  {
   "cell_type": "code",
   "execution_count": null,
   "metadata": {},
   "outputs": [],
   "source": [
    "print(agents_data['conversion'].describe())\n",
    "agents_data['conv_level'] = pd.qcut(agents_data['conversion'], \n",
    "                                        q = 3, \n",
    "                                        labels=['ниже среднего', 'средняя','выше среднего'])\n",
    "display(agents_data.head())\n",
    "\n",
    "ax = sns.relplot(x='avg_call_sec', \n",
    "          y = 'n_calls',\n",
    "          hue=\"conv_level\", style=\"conv_level\",\n",
    "          data = agents_data,\n",
    "          height=8, # make the plot 5 units high\n",
    "          aspect=1) # height should be three times width)\n",
    "#ax.set(xlim=(0,600),ylim=(0,2000))\n",
    "ax.set(title = 'Распределение операторов по продолжительности и количеству с звонков для разных уровней продажной конверсии',\n",
    "                xlabel = 'Средняя продолжительность звонка, сек',\n",
    "                ylabel = 'Количество звонков')\n",
    "plt.show()"
   ]
  },
  {
   "cell_type": "code",
   "execution_count": null,
   "metadata": {},
   "outputs": [],
   "source": []
  }
 ],
 "metadata": {
  "kernelspec": {
   "display_name": "Python 3",
   "language": "python",
   "name": "python3"
  },
  "language_info": {
   "codemirror_mode": {
    "name": "ipython",
    "version": 3
   },
   "file_extension": ".py",
   "mimetype": "text/x-python",
   "name": "python",
   "nbconvert_exporter": "python",
   "pygments_lexer": "ipython3",
   "version": "3.7.6"
  }
 },
 "nbformat": 4,
 "nbformat_minor": 4
}
